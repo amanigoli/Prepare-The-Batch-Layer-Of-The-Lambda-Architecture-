{
 "cells": [
  {
   "cell_type": "code",
   "execution_count": 1,
   "metadata": {},
   "outputs": [],
   "source": [
    "vehicle_counter_DF = spark.read.csv('/home/amani/per-vehicle-records-2019-10-31.csv',inferSchema = True, header = True)"
   ]
  },
  {
   "cell_type": "code",
   "execution_count": 2,
   "metadata": {},
   "outputs": [
    {
     "data": {
      "text/plain": [
       "pyspark.sql.dataframe.DataFrame"
      ]
     },
     "execution_count": 2,
     "metadata": {},
     "output_type": "execute_result"
    }
   ],
   "source": [
    "type(vehicle_counter_DF)"
   ]
  },
  {
   "cell_type": "code",
   "execution_count": 3,
   "metadata": {},
   "outputs": [
    {
     "data": {
      "text/plain": [
       "4389299"
      ]
     },
     "execution_count": 3,
     "metadata": {},
     "output_type": "execute_result"
    }
   ],
   "source": [
    "vehicle_counter_DF.count()"
   ]
  },
  {
   "cell_type": "code",
   "execution_count": 4,
   "metadata": {},
   "outputs": [
    {
     "name": "stdout",
     "output_type": "stream",
     "text": [
      "+-----+----+-----+---+----+------+------+-----------+-----------+----+--------+------------+----------------+-----+---------+------+-------+----+-----+------+-----------+--------+------------+-------------+-----------+------------+\n",
      "|cosit|year|month|day|hour|minute|second|millisecond|minuteofday|lane|lanename|straddlelane|straddlelanename|class|classname|length|headway| gap|speed|weight|temperature|duration|validitycode|numberofaxles|axleweights|axlespacings|\n",
      "+-----+----+-----+---+----+------+------+-----------+-----------+----+--------+------------+----------------+-----+---------+------+-------+----+-----+------+-----------+--------+------------+-------------+-----------+------------+\n",
      "|  997|2019|   10| 31|   0|    15|     1|          0|         15|   1|   Test1|           0|            null|    2|      CAR|   5.0|   3.57|3.21| 69.0|   0.0|        0.0|       0|           0|            0|       null|        null|\n",
      "|  997|2019|   10| 31|   0|    15|     3|          0|         15|   2|   Test2|           0|            null|    2|      CAR|   5.1|    2.9|2.94| 69.0|   0.0|        0.0|       0|           0|            0|       null|        null|\n",
      "|  997|2019|   10| 31|   0|    15|     5|          0|         15|   1|   Test1|           0|            null|    2|      CAR|   5.3|   3.45|3.44| 70.0|   0.0|        0.0|       0|           0|            0|       null|        null|\n",
      "|  997|2019|   10| 31|   0|    15|     6|          0|         15|   2|   Test2|           0|            null|    5|  HGV_RIG|  11.4|   3.09|3.43| 71.0|   0.0|        0.0|       0|           0|            0|       null|        null|\n",
      "|  997|2019|   10| 31|   0|    15|     9|          0|         15|   1|   Test1|           0|            null|    5|  HGV_RIG|  11.4|   3.01|3.33| 70.0|   0.0|        0.0|       0|           0|            0|       null|        null|\n",
      "+-----+----+-----+---+----+------+------+-----------+-----------+----+--------+------------+----------------+-----+---------+------+-------+----+-----+------+-----------+--------+------------+-------------+-----------+------------+\n",
      "only showing top 5 rows\n",
      "\n"
     ]
    }
   ],
   "source": [
    "vehicle_counter_DF.show(5)"
   ]
  },
  {
   "cell_type": "code",
   "execution_count": 5,
   "metadata": {},
   "outputs": [
    {
     "data": {
      "text/plain": [
       "<bound method DataFrame.printSchema of DataFrame[cosit: int, year: int, month: int, day: int, hour: int, minute: int, second: int, millisecond: int, minuteofday: int, lane: int, lanename: string, straddlelane: int, straddlelanename: string, class: int, classname: string, length: double, headway: double, gap: double, speed: double, weight: double, temperature: double, duration: int, validitycode: int, numberofaxles: int, axleweights: string, axlespacings: string]>"
      ]
     },
     "execution_count": 5,
     "metadata": {},
     "output_type": "execute_result"
    }
   ],
   "source": [
    "vehicle_counter_DF.printSchema"
   ]
  },
  {
   "cell_type": "code",
   "execution_count": 6,
   "metadata": {},
   "outputs": [
    {
     "name": "stdout",
     "output_type": "stream",
     "text": [
      "+-----+-------+\n",
      "|class|  count|\n",
      "+-----+-------+\n",
      "|    1|  14682|\n",
      "|    6| 216978|\n",
      "|    3| 498505|\n",
      "|    5| 135202|\n",
      "|    4|  29347|\n",
      "|    7|  21224|\n",
      "|    2|3472965|\n",
      "|    0|    396|\n",
      "+-----+-------+\n",
      "\n"
     ]
    }
   ],
   "source": [
    "#Question 1\n",
    "dfc=vehicle_counter_DF.groupBy('class').count()\n",
    "dfc.show()\n"
   ]
  },
  {
   "cell_type": "code",
   "execution_count": 16,
   "metadata": {},
   "outputs": [
    {
     "name": "stdout",
     "output_type": "stream",
     "text": [
      "+-----+-------+\n",
      "|class|  count|\n",
      "+-----+-------+\n",
      "|    2|3472965|\n",
      "|    3| 498505|\n",
      "|    6| 216978|\n",
      "|    5| 135202|\n",
      "|    4|  29347|\n",
      "+-----+-------+\n",
      "only showing top 5 rows\n",
      "\n"
     ]
    }
   ],
   "source": [
    "#Question 2 \n",
    "dfc.orderBy(dfc[\"count\"].desc()).show(5)"
   ]
  },
  {
   "cell_type": "code",
   "execution_count": 8,
   "metadata": {},
   "outputs": [
    {
     "name": "stdout",
     "output_type": "stream",
     "text": [
      "+------+------+\n",
      "|length| count|\n",
      "+------+------+\n",
      "|   4.5|468027|\n",
      "|   4.3|442196|\n",
      "|   4.4|441539|\n",
      "+------+------+\n",
      "only showing top 3 rows\n",
      "\n"
     ]
    }
   ],
   "source": [
    "#Question 3\n",
    "largest_sized_vehicles = vehicle_counter_DF.groupby('length').count().sort('count', ascending = False)\n",
    "largest_sized_vehicles.show(3)\n"
   ]
  },
  {
   "cell_type": "code",
   "execution_count": 9,
   "metadata": {},
   "outputs": [
    {
     "data": {
      "text/plain": [
       "2396"
      ]
     },
     "execution_count": 9,
     "metadata": {},
     "output_type": "execute_result"
    }
   ],
   "source": [
    "#Question 4\n",
    "vehicle_counter_DF.filter(vehicle_counter_DF.straddlelane != 0).count()"
   ]
  },
  {
   "cell_type": "code",
   "execution_count": 10,
   "metadata": {},
   "outputs": [
    {
     "name": "stdout",
     "output_type": "stream",
     "text": [
      "+-----+-----------------+\n",
      "|class|       avg(speed)|\n",
      "+-----+-----------------+\n",
      "|    1|75.41983381010762|\n",
      "|    6|81.93572758528522|\n",
      "|    3|90.35929148153001|\n",
      "|    5|80.11806925933027|\n",
      "|    4| 79.0626980611306|\n",
      "|    7|  80.509602336977|\n",
      "|    2|87.99111496948547|\n",
      "|    0|81.18964646464646|\n",
      "+-----+-----------------+\n",
      "\n"
     ]
    }
   ],
   "source": [
    "#Question 5\n",
    "group_data = vehicle_counter_DF.groupBy(\"class\")\n",
    "group_data.agg({'speed':'avg'}).show()    \n"
   ]
  },
  {
   "cell_type": "code",
   "execution_count": 12,
   "metadata": {},
   "outputs": [],
   "source": [
    "df3=vehicle_counter_DF"
   ]
  },
  {
   "cell_type": "code",
   "execution_count": 13,
   "metadata": {},
   "outputs": [
    {
     "name": "stdout",
     "output_type": "stream",
     "text": [
      "+-----+----+-----+---+----+------+------+-----------+-----------+----+--------+------------+----------------+-----+---------+------+-------+----+-----+------+-----------+--------+------------+-------------+-----------+------------+--------------------+\n",
      "|cosit|year|month|day|hour|minute|second|millisecond|minuteofday|lane|lanename|straddlelane|straddlelanename|class|classname|length|headway| gap|speed|weight|temperature|duration|validitycode|numberofaxles|axleweights|axlespacings|           timestamp|\n",
      "+-----+----+-----+---+----+------+------+-----------+-----------+----+--------+------------+----------------+-----+---------+------+-------+----+-----+------+-----------+--------+------------+-------------+-----------+------------+--------------------+\n",
      "|  997|2019|   10| 31|   0|    15|     1|          0|         15|   1|   Test1|           0|            null|    2|      CAR|   5.0|   3.57|3.21| 69.0|   0.0|        0.0|       0|           0|            0|       null|        null| 2019-10-31-0-15-1-0|\n",
      "|  997|2019|   10| 31|   0|    15|     3|          0|         15|   2|   Test2|           0|            null|    2|      CAR|   5.1|    2.9|2.94| 69.0|   0.0|        0.0|       0|           0|            0|       null|        null| 2019-10-31-0-15-3-0|\n",
      "|  997|2019|   10| 31|   0|    15|     5|          0|         15|   1|   Test1|           0|            null|    2|      CAR|   5.3|   3.45|3.44| 70.0|   0.0|        0.0|       0|           0|            0|       null|        null| 2019-10-31-0-15-5-0|\n",
      "|  997|2019|   10| 31|   0|    15|     6|          0|         15|   2|   Test2|           0|            null|    5|  HGV_RIG|  11.4|   3.09|3.43| 71.0|   0.0|        0.0|       0|           0|            0|       null|        null| 2019-10-31-0-15-6-0|\n",
      "|  997|2019|   10| 31|   0|    15|     9|          0|         15|   1|   Test1|           0|            null|    5|  HGV_RIG|  11.4|   3.01|3.33| 70.0|   0.0|        0.0|       0|           0|            0|       null|        null| 2019-10-31-0-15-9-0|\n",
      "|  997|2019|   10| 31|   0|    15|    10|          0|         15|   2|   Test2|           0|            null|    5|  HGV_RIG|  11.1|   3.47|3.42| 69.0|   0.0|        0.0|       0|           0|            0|       null|        null|2019-10-31-0-15-10-0|\n",
      "|  997|2019|   10| 31|   0|    15|    13|          0|         15|   2|   Test2|           0|            null|    2|      CAR|   5.3|   2.79|2.52| 71.0|   0.0|        0.0|       0|           0|            0|       null|        null|2019-10-31-0-15-13-0|\n",
      "|  997|2019|   10| 31|   0|    15|    13|          0|         15|   1|   Test1|           0|            null|    5|  HGV_RIG|  11.4|    3.5|3.51| 70.0|   0.0|        0.0|       0|           0|            0|       null|        null|2019-10-31-0-15-13-0|\n",
      "|  997|2019|   10| 31|   0|    15|    16|          0|         15|   1|   Test1|           0|            null|    2|      CAR|   5.1|    3.5|3.11| 69.0|   0.0|        0.0|       0|           0|            0|       null|        null|2019-10-31-0-15-16-0|\n",
      "|  997|2019|   10| 31|   0|    15|    17|          0|         15|   2|   Test2|           0|            null|    2|      CAR|   5.2|    2.9|2.83| 69.0|   0.0|        0.0|       0|           0|            0|       null|        null|2019-10-31-0-15-17-0|\n",
      "|  997|2019|   10| 31|   0|    15|    20|          0|         15|   1|   Test1|           0|            null|    2|      CAR|   5.1|   3.39|3.43| 69.0|   0.0|        0.0|       0|           0|            0|       null|        null|2019-10-31-0-15-20-0|\n",
      "|  997|2019|   10| 31|   0|    15|    20|          0|         15|   2|   Test2|           0|            null|    2|      CAR|   5.1|   3.14|3.23| 71.0|   0.0|        0.0|       0|           0|            0|       null|        null|2019-10-31-0-15-20-0|\n",
      "|  997|2019|   10| 31|   0|    15|    23|          0|         15|   1|   Test1|           0|            null|    2|      CAR|   5.2|   3.06|3.13| 70.0|   0.0|        0.0|       0|           0|            0|       null|        null|2019-10-31-0-15-23-0|\n",
      "|  997|2019|   10| 31|   0|    15|    24|          0|         15|   2|   Test2|           0|            null|    2|      CAR|   5.2|   3.47|3.54| 71.0|   0.0|        0.0|       0|           0|            0|       null|        null|2019-10-31-0-15-24-0|\n",
      "|  997|2019|   10| 31|   0|    15|    27|          0|         15|   1|   Test1|           0|            null|    2|      CAR|   5.2|    3.5|3.43| 70.0|   0.0|        0.0|       0|           0|            0|       null|        null|2019-10-31-0-15-27-0|\n",
      "|  997|2019|   10| 31|   0|    15|    28|          0|         15|   2|   Test2|           0|            null|    5|  HGV_RIG|  11.4|   3.47|3.74| 71.0|   0.0|        0.0|       0|           0|            0|       null|        null|2019-10-31-0-15-28-0|\n",
      "|  997|2019|   10| 31|   0|    15|    31|          0|         15|   1|   Test1|           0|            null|    5|  HGV_RIG|  11.4|   3.52|3.83| 70.0|   0.0|        0.0|       0|           0|            0|       null|        null|2019-10-31-0-15-31-0|\n",
      "|  997|2019|   10| 31|   0|    15|    31|          0|         15|   2|   Test2|           0|            null|    5|  HGV_RIG|  11.2|   2.92|2.92| 71.0|   0.0|        0.0|       0|           0|            0|       null|        null|2019-10-31-0-15-31-0|\n",
      "|  997|2019|   10| 31|   0|    15|    35|          0|         15|   2|   Test2|           0|            null|    2|      CAR|   5.3|   3.27|3.03| 71.0|   0.0|        0.0|       0|           0|            0|       null|        null|2019-10-31-0-15-35-0|\n",
      "|  997|2019|   10| 31|   0|    15|    35|          0|         15|   1|   Test1|           0|            null|    2|      CAR|   5.2|   3.05|2.71| 69.0|   0.0|        0.0|       0|           0|            0|       null|        null|2019-10-31-0-15-35-0|\n",
      "+-----+----+-----+---+----+------+------+-----------+-----------+----+--------+------------+----------------+-----+---------+------+-------+----+-----+------+-----------+--------+------------+-------------+-----------+------------+--------------------+\n",
      "only showing top 20 rows\n",
      "\n"
     ]
    }
   ],
   "source": [
    "#Question 6\n",
    "import pyspark\n",
    "from pyspark.sql import functions as sf\n",
    "df3 = df3.withColumn('timestamp',sf.concat(sf.col('year'),sf.lit('-'), sf.col('month'),sf.lit('-'), sf.col('day'),sf.lit('-'), sf.col('hour'),sf.lit('-'), sf.col('minute'),sf.lit('-'), sf.col('second'),sf.lit('-'), sf.col('millisecond')))\n",
    "df3.show()\n"
   ]
  },
  {
   "cell_type": "code",
   "execution_count": 15,
   "metadata": {},
   "outputs": [
    {
     "name": "stdout",
     "output_type": "stream",
     "text": [
      "+-----+-----+\n",
      "|cosit|count|\n",
      "+-----+-----+\n",
      "| 1508|98292|\n",
      "| 1502|89498|\n",
      "| 1503|86195|\n",
      "+-----+-----+\n",
      "only showing top 3 rows\n",
      "\n"
     ]
    }
   ],
   "source": [
    "#Question 7\n",
    "vehicle_counter_DF.groupBy(\"cosit\").count().sort(\"count\",ascending = False).show(3)"
   ]
  },
  {
   "cell_type": "code",
   "execution_count": 17,
   "metadata": {},
   "outputs": [
    {
     "name": "stdout",
     "output_type": "stream",
     "text": [
      "+---------+-----------------+\n",
      "|classname|       avg(speed)|\n",
      "+---------+-----------------+\n",
      "|      CAR|87.99111496948547|\n",
      "|  HGV_ART|81.93572758528522|\n",
      "|      BUS| 79.0626980611306|\n",
      "|  HGV_RIG|80.11806925933027|\n",
      "|     null|81.18964646464646|\n",
      "|  CARAVAN|  80.509602336977|\n",
      "|      LGV|90.35929148153001|\n",
      "|    MBIKE|75.41983381010762|\n",
      "+---------+-----------------+\n",
      "\n"
     ]
    }
   ],
   "source": [
    "#Question 8\n",
    "group_data = vehicle_counter_DF.groupBy(\"classname\")\n",
    "group_data.agg({'speed':'avg'}).show()\n",
    "\n"
   ]
  },
  {
   "cell_type": "code",
   "execution_count": 18,
   "metadata": {},
   "outputs": [
    {
     "name": "stdout",
     "output_type": "stream",
     "text": [
      "+--------------------+----------------+\n",
      "|           timestamp|avg(temperature)|\n",
      "+--------------------+----------------+\n",
      "|2019-10-31-0-15-45-0|             0.0|\n",
      "|2019-10-31-0-21-17-0|             0.0|\n",
      "|2019-10-31-0-19-38-0|             0.0|\n",
      "|2019-10-31-0-21-29-0|             0.0|\n",
      "|2019-10-31-23-16-...|             0.0|\n",
      "|2019-10-31-23-16-...|             0.0|\n",
      "|2019-10-31-23-17-...|             0.0|\n",
      "|2019-10-31-23-19-...|             0.0|\n",
      "|2019-10-31-23-15-...|            10.0|\n",
      "|2019-10-31-23-18-...|            10.0|\n",
      "|2019-10-31-23-16-8-0|             0.0|\n",
      "|2019-10-31-23-18-...|             0.0|\n",
      "|2019-10-31-3-15-39-0|             0.0|\n",
      "|2019-10-31-3-19-53-0|             0.0|\n",
      "|2019-10-31-3-19-3...|             9.0|\n",
      "|2019-10-31-3-16-7-90|             0.0|\n",
      "|2019-10-31-3-15-5...|             0.0|\n",
      "|2019-10-31-3-16-3...|             7.0|\n",
      "|2019-10-31-0-48-46-0|             0.0|\n",
      "| 2019-10-31-1-20-9-0|             0.0|\n",
      "+--------------------+----------------+\n",
      "only showing top 20 rows\n",
      "\n"
     ]
    }
   ],
   "source": [
    "#Question 9\n",
    "group_data_date = df3.groupBy(\"timestamp\")\n",
    "type(group_data_date)\n",
    "group_data_date.agg({'temperature':'avg'}).show(20)\n",
    "\n"
   ]
  },
  {
   "cell_type": "code",
   "execution_count": 19,
   "metadata": {},
   "outputs": [
    {
     "name": "stdout",
     "output_type": "stream",
     "text": [
      "+------------+------+\n",
      "|    lanename| count|\n",
      "+------------+------+\n",
      "|Northbound 1|420513|\n",
      "|Southbound 1|399004|\n",
      "|Southbound 2|312690|\n",
      "+------------+------+\n",
      "only showing top 3 rows\n",
      "\n"
     ]
    }
   ],
   "source": [
    "#Question 10\n",
    "group_data_lane=vehicle_counter_DF.groupBy('lanename').count()\n",
    "group_data_lane.orderBy(group_data_lane[\"count\"].desc()).show(3)\n"
   ]
  },
  {
   "cell_type": "code",
   "execution_count": null,
   "metadata": {},
   "outputs": [],
   "source": []
  }
 ],
 "metadata": {
  "kernelspec": {
   "display_name": "Python 3",
   "language": "python",
   "name": "python3"
  },
  "language_info": {
   "codemirror_mode": {
    "name": "ipython",
    "version": 3
   },
   "file_extension": ".py",
   "mimetype": "text/x-python",
   "name": "python",
   "nbconvert_exporter": "python",
   "pygments_lexer": "ipython3",
   "version": "3.5.2"
  },
  "widgets": {
   "application/vnd.jupyter.widget-state+json": {
    "state": {},
    "version_major": 2,
    "version_minor": 0
   }
  }
 },
 "nbformat": 4,
 "nbformat_minor": 2
}
